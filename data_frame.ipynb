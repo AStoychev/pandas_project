{
 "cells": [
  {
   "cell_type": "code",
   "execution_count": 1,
   "id": "64d16f2f-9cc1-4809-999f-92d297c12d05",
   "metadata": {},
   "outputs": [],
   "source": [
    "import pandas as pd"
   ]
  },
  {
   "cell_type": "code",
   "execution_count": 2,
   "id": "e4fefad8-c615-4287-9a07-dc3e4528f2ce",
   "metadata": {},
   "outputs": [],
   "source": [
    "df1 = pd.DataFrame()"
   ]
  },
  {
   "cell_type": "code",
   "execution_count": 3,
   "id": "f18c5390-56e6-43a3-b111-29037b0c7b6c",
   "metadata": {},
   "outputs": [
    {
     "data": {
      "text/plain": [
       "pandas.core.frame.DataFrame"
      ]
     },
     "execution_count": 3,
     "metadata": {},
     "output_type": "execute_result"
    }
   ],
   "source": [
    "type(df1)"
   ]
  },
  {
   "cell_type": "code",
   "execution_count": 4,
   "id": "f1777c48-fd12-48ad-acaa-5384a1b3d6ec",
   "metadata": {},
   "outputs": [
    {
     "name": "stdout",
     "output_type": "stream",
     "text": [
      "Empty DataFrame\n",
      "Columns: []\n",
      "Index: []\n"
     ]
    }
   ],
   "source": [
    "print(df1)"
   ]
  },
  {
   "cell_type": "code",
   "execution_count": 5,
   "id": "1db4d185-857d-4bc4-b815-2206fb20e934",
   "metadata": {},
   "outputs": [
    {
     "data": {
      "text/html": [
       "<div>\n",
       "<style scoped>\n",
       "    .dataframe tbody tr th:only-of-type {\n",
       "        vertical-align: middle;\n",
       "    }\n",
       "\n",
       "    .dataframe tbody tr th {\n",
       "        vertical-align: top;\n",
       "    }\n",
       "\n",
       "    .dataframe thead th {\n",
       "        text-align: right;\n",
       "    }\n",
       "</style>\n",
       "<table border=\"1\" class=\"dataframe\">\n",
       "  <thead>\n",
       "    <tr style=\"text-align: right;\">\n",
       "      <th></th>\n",
       "    </tr>\n",
       "  </thead>\n",
       "  <tbody>\n",
       "  </tbody>\n",
       "</table>\n",
       "</div>"
      ],
      "text/plain": [
       "Empty DataFrame\n",
       "Columns: []\n",
       "Index: []"
      ]
     },
     "execution_count": 5,
     "metadata": {},
     "output_type": "execute_result"
    }
   ],
   "source": [
    "df1"
   ]
  },
  {
   "cell_type": "code",
   "execution_count": 6,
   "id": "db464d4a-4164-4759-ab9c-1574801b54de",
   "metadata": {},
   "outputs": [
    {
     "ename": "SyntaxError",
     "evalue": "invalid syntax (1850845284.py, line 1)",
     "output_type": "error",
     "traceback": [
      "\u001B[1;36m  Cell \u001B[1;32mIn[6], line 1\u001B[1;36m\u001B[0m\n\u001B[1;33m    df.1 colums\u001B[0m\n\u001B[1;37m      ^\u001B[0m\n\u001B[1;31mSyntaxError\u001B[0m\u001B[1;31m:\u001B[0m invalid syntax\n"
     ]
    }
   ],
   "source": [
    "df.1 colums"
   ]
  },
  {
   "cell_type": "code",
   "execution_count": 7,
   "id": "56041c16-e265-41f2-9fcf-dbea5ac560a3",
   "metadata": {},
   "outputs": [
    {
     "ename": "SyntaxError",
     "evalue": "invalid syntax (18335966.py, line 1)",
     "output_type": "error",
     "traceback": [
      "\u001B[1;36m  Cell \u001B[1;32mIn[7], line 1\u001B[1;36m\u001B[0m\n\u001B[1;33m    df1 columns\u001B[0m\n\u001B[1;37m        ^\u001B[0m\n\u001B[1;31mSyntaxError\u001B[0m\u001B[1;31m:\u001B[0m invalid syntax\n"
     ]
    }
   ],
   "source": [
    "df1 columns"
   ]
  },
  {
   "cell_type": "code",
   "execution_count": 8,
   "id": "4c5de815-2269-4924-a390-c982186e5ebe",
   "metadata": {},
   "outputs": [
    {
     "data": {
      "text/plain": [
       "RangeIndex(start=0, stop=0, step=1)"
      ]
     },
     "execution_count": 8,
     "metadata": {},
     "output_type": "execute_result"
    }
   ],
   "source": [
    "df1.columns"
   ]
  },
  {
   "cell_type": "code",
   "execution_count": 9,
   "id": "2284f588-dc9b-4567-9419-d7ef3d503ef9",
   "metadata": {},
   "outputs": [
    {
     "data": {
      "text/plain": [
       "RangeIndex(start=0, stop=0, step=1)"
      ]
     },
     "execution_count": 9,
     "metadata": {},
     "output_type": "execute_result"
    }
   ],
   "source": [
    "df1.index"
   ]
  },
  {
   "cell_type": "code",
   "execution_count": 10,
   "id": "bc07e20c-c5d9-4263-8837-6af8524191d2",
   "metadata": {},
   "outputs": [],
   "source": [
    "students_list = [['Bob','William',26,'Computer Engineering',86],\n",
    "                ['Emma','Johnson',23,'Math',92],\n",
    "                ['Sarah','Smith',22,'Chemistry',95],\n",
    "                ['Alex','Brown',21,'Electrical Engineering',82]]"
   ]
  },
  {
   "cell_type": "code",
   "execution_count": 11,
   "id": "7eb67529-1a2c-44ba-ab82-5fe82d0cf24d",
   "metadata": {},
   "outputs": [],
   "source": [
    "students_df = pd.DataFrame(students_list)"
   ]
  },
  {
   "cell_type": "code",
   "execution_count": 12,
   "id": "1813d718-09a7-44f6-8189-e13d9606e99b",
   "metadata": {},
   "outputs": [
    {
     "data": {
      "text/html": [
       "<div>\n",
       "<style scoped>\n",
       "    .dataframe tbody tr th:only-of-type {\n",
       "        vertical-align: middle;\n",
       "    }\n",
       "\n",
       "    .dataframe tbody tr th {\n",
       "        vertical-align: top;\n",
       "    }\n",
       "\n",
       "    .dataframe thead th {\n",
       "        text-align: right;\n",
       "    }\n",
       "</style>\n",
       "<table border=\"1\" class=\"dataframe\">\n",
       "  <thead>\n",
       "    <tr style=\"text-align: right;\">\n",
       "      <th></th>\n",
       "      <th>0</th>\n",
       "      <th>1</th>\n",
       "      <th>2</th>\n",
       "      <th>3</th>\n",
       "      <th>4</th>\n",
       "    </tr>\n",
       "  </thead>\n",
       "  <tbody>\n",
       "    <tr>\n",
       "      <th>0</th>\n",
       "      <td>Bob</td>\n",
       "      <td>William</td>\n",
       "      <td>26</td>\n",
       "      <td>Computer Engineering</td>\n",
       "      <td>86</td>\n",
       "    </tr>\n",
       "    <tr>\n",
       "      <th>1</th>\n",
       "      <td>Emma</td>\n",
       "      <td>Johnson</td>\n",
       "      <td>23</td>\n",
       "      <td>Math</td>\n",
       "      <td>92</td>\n",
       "    </tr>\n",
       "    <tr>\n",
       "      <th>2</th>\n",
       "      <td>Sarah</td>\n",
       "      <td>Smith</td>\n",
       "      <td>22</td>\n",
       "      <td>Chemistry</td>\n",
       "      <td>95</td>\n",
       "    </tr>\n",
       "    <tr>\n",
       "      <th>3</th>\n",
       "      <td>Alex</td>\n",
       "      <td>Brown</td>\n",
       "      <td>21</td>\n",
       "      <td>Electrical Engineering</td>\n",
       "      <td>82</td>\n",
       "    </tr>\n",
       "  </tbody>\n",
       "</table>\n",
       "</div>"
      ],
      "text/plain": [
       "       0        1   2                       3   4\n",
       "0    Bob  William  26    Computer Engineering  86\n",
       "1   Emma  Johnson  23                    Math  92\n",
       "2  Sarah    Smith  22               Chemistry  95\n",
       "3   Alex    Brown  21  Electrical Engineering  82"
      ]
     },
     "execution_count": 12,
     "metadata": {},
     "output_type": "execute_result"
    }
   ],
   "source": [
    "students_df"
   ]
  },
  {
   "cell_type": "code",
   "execution_count": 13,
   "id": "3df039e5-9d8b-44d5-aa53-eed7b773ce93",
   "metadata": {},
   "outputs": [
    {
     "ename": "TypeError",
     "evalue": "DataFrame.__init__() got an unexpected keyword argument 'colums'",
     "output_type": "error",
     "traceback": [
      "\u001B[1;31m---------------------------------------------------------------------------\u001B[0m",
      "\u001B[1;31mTypeError\u001B[0m                                 Traceback (most recent call last)",
      "Cell \u001B[1;32mIn[13], line 1\u001B[0m\n\u001B[1;32m----> 1\u001B[0m students_df \u001B[38;5;241m=\u001B[39m \u001B[43mpd\u001B[49m\u001B[38;5;241;43m.\u001B[39;49m\u001B[43mDataFrame\u001B[49m\u001B[43m(\u001B[49m\u001B[43mstudents_list\u001B[49m\u001B[43m,\u001B[49m\u001B[43mcolums\u001B[49m\u001B[38;5;241;43m=\u001B[39;49m\u001B[43m[\u001B[49m\u001B[38;5;124;43m'\u001B[39;49m\u001B[38;5;124;43mFirst_Name\u001B[39;49m\u001B[38;5;124;43m'\u001B[39;49m\u001B[43m,\u001B[49m\u001B[38;5;124;43m'\u001B[39;49m\u001B[38;5;124;43mLast_Name\u001B[39;49m\u001B[38;5;124;43m'\u001B[39;49m\u001B[43m,\u001B[49m\u001B[38;5;124;43m'\u001B[39;49m\u001B[38;5;124;43mAge\u001B[39;49m\u001B[38;5;124;43m'\u001B[39;49m\u001B[43m,\u001B[49m\u001B[38;5;124;43m'\u001B[39;49m\u001B[38;5;124;43mMajor\u001B[39;49m\u001B[38;5;124;43m'\u001B[39;49m\u001B[43m,\u001B[49m\u001B[38;5;124;43m'\u001B[39;49m\u001B[38;5;124;43mScore\u001B[39;49m\u001B[38;5;124;43m'\u001B[39;49m\u001B[43m]\u001B[49m\u001B[43m)\u001B[49m\n",
      "\u001B[1;31mTypeError\u001B[0m: DataFrame.__init__() got an unexpected keyword argument 'colums'"
     ]
    }
   ],
   "source": [
    "students_df = pd.DataFrame(students_list,colums=['First_Name','Last_Name','Age','Major','Score'])"
   ]
  },
  {
   "cell_type": "code",
   "execution_count": 14,
   "id": "50e7f1d0-014e-464a-bf14-0c4c6546c6a0",
   "metadata": {},
   "outputs": [],
   "source": [
    "students_df = pd.DataFrame(students_list,columns=['First_Name','Last_Name','Age','Major','Score'])"
   ]
  },
  {
   "cell_type": "code",
   "execution_count": 15,
   "id": "2e9c7669-cdd8-45d4-b06a-0a5636737c20",
   "metadata": {},
   "outputs": [
    {
     "ename": "NameError",
     "evalue": "name 'studens_df' is not defined",
     "output_type": "error",
     "traceback": [
      "\u001B[1;31m---------------------------------------------------------------------------\u001B[0m",
      "\u001B[1;31mNameError\u001B[0m                                 Traceback (most recent call last)",
      "Cell \u001B[1;32mIn[15], line 1\u001B[0m\n\u001B[1;32m----> 1\u001B[0m \u001B[43mstudens_df\u001B[49m\n",
      "\u001B[1;31mNameError\u001B[0m: name 'studens_df' is not defined"
     ]
    }
   ],
   "source": [
    "studens_df"
   ]
  },
  {
   "cell_type": "code",
   "execution_count": 16,
   "id": "4d874c19-32d5-40e5-9d12-92ec079b65f6",
   "metadata": {},
   "outputs": [
    {
     "data": {
      "text/html": [
       "<div>\n",
       "<style scoped>\n",
       "    .dataframe tbody tr th:only-of-type {\n",
       "        vertical-align: middle;\n",
       "    }\n",
       "\n",
       "    .dataframe tbody tr th {\n",
       "        vertical-align: top;\n",
       "    }\n",
       "\n",
       "    .dataframe thead th {\n",
       "        text-align: right;\n",
       "    }\n",
       "</style>\n",
       "<table border=\"1\" class=\"dataframe\">\n",
       "  <thead>\n",
       "    <tr style=\"text-align: right;\">\n",
       "      <th></th>\n",
       "      <th>First_Name</th>\n",
       "      <th>Last_Name</th>\n",
       "      <th>Age</th>\n",
       "      <th>Major</th>\n",
       "      <th>Score</th>\n",
       "    </tr>\n",
       "  </thead>\n",
       "  <tbody>\n",
       "    <tr>\n",
       "      <th>0</th>\n",
       "      <td>Bob</td>\n",
       "      <td>William</td>\n",
       "      <td>26</td>\n",
       "      <td>Computer Engineering</td>\n",
       "      <td>86</td>\n",
       "    </tr>\n",
       "    <tr>\n",
       "      <th>1</th>\n",
       "      <td>Emma</td>\n",
       "      <td>Johnson</td>\n",
       "      <td>23</td>\n",
       "      <td>Math</td>\n",
       "      <td>92</td>\n",
       "    </tr>\n",
       "    <tr>\n",
       "      <th>2</th>\n",
       "      <td>Sarah</td>\n",
       "      <td>Smith</td>\n",
       "      <td>22</td>\n",
       "      <td>Chemistry</td>\n",
       "      <td>95</td>\n",
       "    </tr>\n",
       "    <tr>\n",
       "      <th>3</th>\n",
       "      <td>Alex</td>\n",
       "      <td>Brown</td>\n",
       "      <td>21</td>\n",
       "      <td>Electrical Engineering</td>\n",
       "      <td>82</td>\n",
       "    </tr>\n",
       "  </tbody>\n",
       "</table>\n",
       "</div>"
      ],
      "text/plain": [
       "  First_Name Last_Name  Age                   Major  Score\n",
       "0        Bob   William   26    Computer Engineering     86\n",
       "1       Emma   Johnson   23                    Math     92\n",
       "2      Sarah     Smith   22               Chemistry     95\n",
       "3       Alex     Brown   21  Electrical Engineering     82"
      ]
     },
     "execution_count": 16,
     "metadata": {},
     "output_type": "execute_result"
    }
   ],
   "source": [
    "students_df"
   ]
  },
  {
   "cell_type": "code",
   "execution_count": 17,
   "id": "5f41ec6a-1562-416c-8679-e29ff14dc50f",
   "metadata": {},
   "outputs": [],
   "source": [
    "students_df = pd.DataFrame(students_list,columns=['First_Name','Last_Name','Age','Major','Score'],\n",
    "                          index = ['bob@mail.com','emma@mail.com','Sarah@mail.com','Alex@mail.com'])"
   ]
  },
  {
   "cell_type": "code",
   "execution_count": 18,
   "id": "670d5285-0ccd-4fe5-b51e-57b244dd61b6",
   "metadata": {},
   "outputs": [
    {
     "data": {
      "text/html": [
       "<div>\n",
       "<style scoped>\n",
       "    .dataframe tbody tr th:only-of-type {\n",
       "        vertical-align: middle;\n",
       "    }\n",
       "\n",
       "    .dataframe tbody tr th {\n",
       "        vertical-align: top;\n",
       "    }\n",
       "\n",
       "    .dataframe thead th {\n",
       "        text-align: right;\n",
       "    }\n",
       "</style>\n",
       "<table border=\"1\" class=\"dataframe\">\n",
       "  <thead>\n",
       "    <tr style=\"text-align: right;\">\n",
       "      <th></th>\n",
       "      <th>First_Name</th>\n",
       "      <th>Last_Name</th>\n",
       "      <th>Age</th>\n",
       "      <th>Major</th>\n",
       "      <th>Score</th>\n",
       "    </tr>\n",
       "  </thead>\n",
       "  <tbody>\n",
       "    <tr>\n",
       "      <th>bob@mail.com</th>\n",
       "      <td>Bob</td>\n",
       "      <td>William</td>\n",
       "      <td>26</td>\n",
       "      <td>Computer Engineering</td>\n",
       "      <td>86</td>\n",
       "    </tr>\n",
       "    <tr>\n",
       "      <th>emma@mail.com</th>\n",
       "      <td>Emma</td>\n",
       "      <td>Johnson</td>\n",
       "      <td>23</td>\n",
       "      <td>Math</td>\n",
       "      <td>92</td>\n",
       "    </tr>\n",
       "    <tr>\n",
       "      <th>Sarah@mail.com</th>\n",
       "      <td>Sarah</td>\n",
       "      <td>Smith</td>\n",
       "      <td>22</td>\n",
       "      <td>Chemistry</td>\n",
       "      <td>95</td>\n",
       "    </tr>\n",
       "    <tr>\n",
       "      <th>Alex@mail.com</th>\n",
       "      <td>Alex</td>\n",
       "      <td>Brown</td>\n",
       "      <td>21</td>\n",
       "      <td>Electrical Engineering</td>\n",
       "      <td>82</td>\n",
       "    </tr>\n",
       "  </tbody>\n",
       "</table>\n",
       "</div>"
      ],
      "text/plain": [
       "               First_Name Last_Name  Age                   Major  Score\n",
       "bob@mail.com          Bob   William   26    Computer Engineering     86\n",
       "emma@mail.com        Emma   Johnson   23                    Math     92\n",
       "Sarah@mail.com      Sarah     Smith   22               Chemistry     95\n",
       "Alex@mail.com        Alex     Brown   21  Electrical Engineering     82"
      ]
     },
     "execution_count": 18,
     "metadata": {},
     "output_type": "execute_result"
    }
   ],
   "source": [
    "students_df"
   ]
  },
  {
   "cell_type": "code",
   "execution_count": 19,
   "id": "d5bc0103-377d-4039-8c10-52ab1309541f",
   "metadata": {},
   "outputs": [],
   "source": [
    "student_dict = {'First_Name':['Bob','Emma','Sarah','Alex'],\n",
    "               'Last_Name':['William','Johnson','Smit','Brown'],\n",
    "               'Age':[26,23,22,21],\n",
    "               'Major':['ComputerEngineering','Math','Chemistry','Electrical Engineering'],\n",
    "               'Score':[86,92,95,82],}"
   ]
  },
  {
   "cell_type": "code",
   "execution_count": 20,
   "id": "c362a98d-7be0-414f-b937-5bb2afcc4aab",
   "metadata": {},
   "outputs": [
    {
     "ename": "NameError",
     "evalue": "name 'students_dict' is not defined",
     "output_type": "error",
     "traceback": [
      "\u001B[1;31m---------------------------------------------------------------------------\u001B[0m",
      "\u001B[1;31mNameError\u001B[0m                                 Traceback (most recent call last)",
      "Cell \u001B[1;32mIn[20], line 1\u001B[0m\n\u001B[1;32m----> 1\u001B[0m students_df2 \u001B[38;5;241m=\u001B[39m pd\u001B[38;5;241m.\u001B[39mDataFrame(\u001B[43mstudents_dict\u001B[49m)\n",
      "\u001B[1;31mNameError\u001B[0m: name 'students_dict' is not defined"
     ]
    }
   ],
   "source": [
    "students_df2 = pd.DataFrame(students_dict)"
   ]
  },
  {
   "cell_type": "code",
   "execution_count": 21,
   "id": "0d2e667b-a60d-4d9e-8567-4a0ffe9216bd",
   "metadata": {},
   "outputs": [],
   "source": [
    "udents_df2 = pd.DataFrame(student_dict)"
   ]
  },
  {
   "cell_type": "code",
   "execution_count": 22,
   "id": "df22907b-6006-47d0-88eb-17721cc30070",
   "metadata": {},
   "outputs": [
    {
     "ename": "NameError",
     "evalue": "name 'student_df2' is not defined",
     "output_type": "error",
     "traceback": [
      "\u001B[1;31m---------------------------------------------------------------------------\u001B[0m",
      "\u001B[1;31mNameError\u001B[0m                                 Traceback (most recent call last)",
      "Cell \u001B[1;32mIn[22], line 1\u001B[0m\n\u001B[1;32m----> 1\u001B[0m \u001B[43mstudent_df2\u001B[49m\n",
      "\u001B[1;31mNameError\u001B[0m: name 'student_df2' is not defined"
     ]
    }
   ],
   "source": [
    "student_df2"
   ]
  },
  {
   "cell_type": "code",
   "execution_count": 23,
   "id": "de1c258e-ec23-4b92-b958-3ed292982a23",
   "metadata": {},
   "outputs": [],
   "source": [
    "student_df2 = pd.DataFrame(student_dict)"
   ]
  },
  {
   "cell_type": "code",
   "execution_count": 24,
   "id": "4364aa6e-135a-4caa-ba80-942f351287bd",
   "metadata": {},
   "outputs": [
    {
     "data": {
      "text/html": [
       "<div>\n",
       "<style scoped>\n",
       "    .dataframe tbody tr th:only-of-type {\n",
       "        vertical-align: middle;\n",
       "    }\n",
       "\n",
       "    .dataframe tbody tr th {\n",
       "        vertical-align: top;\n",
       "    }\n",
       "\n",
       "    .dataframe thead th {\n",
       "        text-align: right;\n",
       "    }\n",
       "</style>\n",
       "<table border=\"1\" class=\"dataframe\">\n",
       "  <thead>\n",
       "    <tr style=\"text-align: right;\">\n",
       "      <th></th>\n",
       "      <th>First_Name</th>\n",
       "      <th>Last_Name</th>\n",
       "      <th>Age</th>\n",
       "      <th>Major</th>\n",
       "      <th>Score</th>\n",
       "    </tr>\n",
       "  </thead>\n",
       "  <tbody>\n",
       "    <tr>\n",
       "      <th>0</th>\n",
       "      <td>Bob</td>\n",
       "      <td>William</td>\n",
       "      <td>26</td>\n",
       "      <td>ComputerEngineering</td>\n",
       "      <td>86</td>\n",
       "    </tr>\n",
       "    <tr>\n",
       "      <th>1</th>\n",
       "      <td>Emma</td>\n",
       "      <td>Johnson</td>\n",
       "      <td>23</td>\n",
       "      <td>Math</td>\n",
       "      <td>92</td>\n",
       "    </tr>\n",
       "    <tr>\n",
       "      <th>2</th>\n",
       "      <td>Sarah</td>\n",
       "      <td>Smit</td>\n",
       "      <td>22</td>\n",
       "      <td>Chemistry</td>\n",
       "      <td>95</td>\n",
       "    </tr>\n",
       "    <tr>\n",
       "      <th>3</th>\n",
       "      <td>Alex</td>\n",
       "      <td>Brown</td>\n",
       "      <td>21</td>\n",
       "      <td>Electrical Engineering</td>\n",
       "      <td>82</td>\n",
       "    </tr>\n",
       "  </tbody>\n",
       "</table>\n",
       "</div>"
      ],
      "text/plain": [
       "  First_Name Last_Name  Age                   Major  Score\n",
       "0        Bob   William   26     ComputerEngineering     86\n",
       "1       Emma   Johnson   23                    Math     92\n",
       "2      Sarah      Smit   22               Chemistry     95\n",
       "3       Alex     Brown   21  Electrical Engineering     82"
      ]
     },
     "execution_count": 24,
     "metadata": {},
     "output_type": "execute_result"
    }
   ],
   "source": [
    "student_df2"
   ]
  },
  {
   "cell_type": "code",
   "execution_count": 25,
   "id": "50ede940-4093-4d4b-b643-b540f29e6964",
   "metadata": {},
   "outputs": [
    {
     "ename": "SyntaxError",
     "evalue": "expression cannot contain assignment, perhaps you meant \"==\"? (1366954712.py, line 1)",
     "output_type": "error",
     "traceback": [
      "\u001B[1;36m  Cell \u001B[1;32mIn[25], line 1\u001B[1;36m\u001B[0m\n\u001B[1;33m    student_df2 = pd.DataFrame(student_dict.columns=['Last_Name','Score'])\u001B[0m\n\u001B[1;37m                               ^\u001B[0m\n\u001B[1;31mSyntaxError\u001B[0m\u001B[1;31m:\u001B[0m expression cannot contain assignment, perhaps you meant \"==\"?\n"
     ]
    }
   ],
   "source": [
    "student_df2 = pd.DataFrame(student_dict.columns=['Last_Name','Score'])"
   ]
  },
  {
   "cell_type": "code",
   "execution_count": 26,
   "id": "9e10ad3f-afe0-4f7c-bbb6-678f1feb34e5",
   "metadata": {},
   "outputs": [],
   "source": [
    "student_df2 = pd.DataFrame(student_dict,columns=['Last_Name','Score'])"
   ]
  },
  {
   "cell_type": "code",
   "execution_count": 27,
   "id": "8c7c57f7-9ef7-47a8-9285-2e46d9db512e",
   "metadata": {},
   "outputs": [
    {
     "data": {
      "text/html": [
       "<div>\n",
       "<style scoped>\n",
       "    .dataframe tbody tr th:only-of-type {\n",
       "        vertical-align: middle;\n",
       "    }\n",
       "\n",
       "    .dataframe tbody tr th {\n",
       "        vertical-align: top;\n",
       "    }\n",
       "\n",
       "    .dataframe thead th {\n",
       "        text-align: right;\n",
       "    }\n",
       "</style>\n",
       "<table border=\"1\" class=\"dataframe\">\n",
       "  <thead>\n",
       "    <tr style=\"text-align: right;\">\n",
       "      <th></th>\n",
       "      <th>Last_Name</th>\n",
       "      <th>Score</th>\n",
       "    </tr>\n",
       "  </thead>\n",
       "  <tbody>\n",
       "    <tr>\n",
       "      <th>0</th>\n",
       "      <td>William</td>\n",
       "      <td>86</td>\n",
       "    </tr>\n",
       "    <tr>\n",
       "      <th>1</th>\n",
       "      <td>Johnson</td>\n",
       "      <td>92</td>\n",
       "    </tr>\n",
       "    <tr>\n",
       "      <th>2</th>\n",
       "      <td>Smit</td>\n",
       "      <td>95</td>\n",
       "    </tr>\n",
       "    <tr>\n",
       "      <th>3</th>\n",
       "      <td>Brown</td>\n",
       "      <td>82</td>\n",
       "    </tr>\n",
       "  </tbody>\n",
       "</table>\n",
       "</div>"
      ],
      "text/plain": [
       "  Last_Name  Score\n",
       "0   William     86\n",
       "1   Johnson     92\n",
       "2      Smit     95\n",
       "3     Brown     82"
      ]
     },
     "execution_count": 27,
     "metadata": {},
     "output_type": "execute_result"
    }
   ],
   "source": [
    "student_df2"
   ]
  },
  {
   "cell_type": "code",
   "execution_count": 28,
   "id": "1268a0c4-306d-4304-8d70-cfdfbf9eb55b",
   "metadata": {},
   "outputs": [],
   "source": [
    "student_df2 = pd.DataFrame(student_dict,columns=['Last_Name','Score','City'])"
   ]
  },
  {
   "cell_type": "code",
   "execution_count": 29,
   "id": "331ea694-e63b-4150-a00b-5df3c296bb01",
   "metadata": {},
   "outputs": [
    {
     "ename": "NameError",
     "evalue": "name 'studenf_df2' is not defined",
     "output_type": "error",
     "traceback": [
      "\u001B[1;31m---------------------------------------------------------------------------\u001B[0m",
      "\u001B[1;31mNameError\u001B[0m                                 Traceback (most recent call last)",
      "Cell \u001B[1;32mIn[29], line 1\u001B[0m\n\u001B[1;32m----> 1\u001B[0m \u001B[43mstudenf_df2\u001B[49m\n",
      "\u001B[1;31mNameError\u001B[0m: name 'studenf_df2' is not defined"
     ]
    }
   ],
   "source": [
    "studenf_df2"
   ]
  },
  {
   "cell_type": "code",
   "execution_count": 30,
   "id": "eeef2796-8f32-4622-bc76-0b8ab674a766",
   "metadata": {},
   "outputs": [
    {
     "data": {
      "text/html": [
       "<div>\n",
       "<style scoped>\n",
       "    .dataframe tbody tr th:only-of-type {\n",
       "        vertical-align: middle;\n",
       "    }\n",
       "\n",
       "    .dataframe tbody tr th {\n",
       "        vertical-align: top;\n",
       "    }\n",
       "\n",
       "    .dataframe thead th {\n",
       "        text-align: right;\n",
       "    }\n",
       "</style>\n",
       "<table border=\"1\" class=\"dataframe\">\n",
       "  <thead>\n",
       "    <tr style=\"text-align: right;\">\n",
       "      <th></th>\n",
       "      <th>Last_Name</th>\n",
       "      <th>Score</th>\n",
       "      <th>City</th>\n",
       "    </tr>\n",
       "  </thead>\n",
       "  <tbody>\n",
       "    <tr>\n",
       "      <th>0</th>\n",
       "      <td>William</td>\n",
       "      <td>86</td>\n",
       "      <td>NaN</td>\n",
       "    </tr>\n",
       "    <tr>\n",
       "      <th>1</th>\n",
       "      <td>Johnson</td>\n",
       "      <td>92</td>\n",
       "      <td>NaN</td>\n",
       "    </tr>\n",
       "    <tr>\n",
       "      <th>2</th>\n",
       "      <td>Smit</td>\n",
       "      <td>95</td>\n",
       "      <td>NaN</td>\n",
       "    </tr>\n",
       "    <tr>\n",
       "      <th>3</th>\n",
       "      <td>Brown</td>\n",
       "      <td>82</td>\n",
       "      <td>NaN</td>\n",
       "    </tr>\n",
       "  </tbody>\n",
       "</table>\n",
       "</div>"
      ],
      "text/plain": [
       "  Last_Name  Score City\n",
       "0   William     86  NaN\n",
       "1   Johnson     92  NaN\n",
       "2      Smit     95  NaN\n",
       "3     Brown     82  NaN"
      ]
     },
     "execution_count": 30,
     "metadata": {},
     "output_type": "execute_result"
    }
   ],
   "source": [
    "student_df2"
   ]
  },
  {
   "cell_type": "code",
   "execution_count": 31,
   "id": "330b3654-1fcc-40c3-aad6-8f4fab63ff0d",
   "metadata": {},
   "outputs": [
    {
     "data": {
      "text/html": [
       "<div>\n",
       "<style scoped>\n",
       "    .dataframe tbody tr th:only-of-type {\n",
       "        vertical-align: middle;\n",
       "    }\n",
       "\n",
       "    .dataframe tbody tr th {\n",
       "        vertical-align: top;\n",
       "    }\n",
       "\n",
       "    .dataframe thead th {\n",
       "        text-align: right;\n",
       "    }\n",
       "</style>\n",
       "<table border=\"1\" class=\"dataframe\">\n",
       "  <thead>\n",
       "    <tr style=\"text-align: right;\">\n",
       "      <th></th>\n",
       "      <th>First_Name</th>\n",
       "      <th>Last_Name</th>\n",
       "      <th>Age</th>\n",
       "      <th>Major</th>\n",
       "      <th>Score</th>\n",
       "    </tr>\n",
       "  </thead>\n",
       "  <tbody>\n",
       "    <tr>\n",
       "      <th>bob@mail.com</th>\n",
       "      <td>Bob</td>\n",
       "      <td>William</td>\n",
       "      <td>26</td>\n",
       "      <td>Computer Engineering</td>\n",
       "      <td>86</td>\n",
       "    </tr>\n",
       "    <tr>\n",
       "      <th>emma@mail.com</th>\n",
       "      <td>Emma</td>\n",
       "      <td>Johnson</td>\n",
       "      <td>23</td>\n",
       "      <td>Math</td>\n",
       "      <td>92</td>\n",
       "    </tr>\n",
       "    <tr>\n",
       "      <th>Sarah@mail.com</th>\n",
       "      <td>Sarah</td>\n",
       "      <td>Smith</td>\n",
       "      <td>22</td>\n",
       "      <td>Chemistry</td>\n",
       "      <td>95</td>\n",
       "    </tr>\n",
       "    <tr>\n",
       "      <th>Alex@mail.com</th>\n",
       "      <td>Alex</td>\n",
       "      <td>Brown</td>\n",
       "      <td>21</td>\n",
       "      <td>Electrical Engineering</td>\n",
       "      <td>82</td>\n",
       "    </tr>\n",
       "  </tbody>\n",
       "</table>\n",
       "</div>"
      ],
      "text/plain": [
       "               First_Name Last_Name  Age                   Major  Score\n",
       "bob@mail.com          Bob   William   26    Computer Engineering     86\n",
       "emma@mail.com        Emma   Johnson   23                    Math     92\n",
       "Sarah@mail.com      Sarah     Smith   22               Chemistry     95\n",
       "Alex@mail.com        Alex     Brown   21  Electrical Engineering     82"
      ]
     },
     "execution_count": 31,
     "metadata": {},
     "output_type": "execute_result"
    }
   ],
   "source": [
    "students_df"
   ]
  },
  {
   "cell_type": "code",
   "execution_count": 32,
   "id": "95b23e8b-7ab5-425b-83d5-a11ee109640f",
   "metadata": {},
   "outputs": [
    {
     "data": {
      "text/plain": [
       "Index(['First_Name', 'Last_Name', 'Age', 'Major', 'Score'], dtype='object')"
      ]
     },
     "execution_count": 32,
     "metadata": {},
     "output_type": "execute_result"
    }
   ],
   "source": [
    "students_df.columns"
   ]
  },
  {
   "cell_type": "code",
   "execution_count": 33,
   "id": "f13503bd-594f-4109-ae86-91cebf2d46f3",
   "metadata": {},
   "outputs": [
    {
     "data": {
      "text/plain": [
       "Index(['bob@mail.com', 'emma@mail.com', 'Sarah@mail.com', 'Alex@mail.com'], dtype='object')"
      ]
     },
     "execution_count": 33,
     "metadata": {},
     "output_type": "execute_result"
    }
   ],
   "source": [
    "students_df.index"
   ]
  },
  {
   "cell_type": "code",
   "execution_count": 34,
   "id": "013e4552-f8d9-40b9-8f67-b259966cc2f2",
   "metadata": {},
   "outputs": [
    {
     "data": {
      "text/plain": [
       "(4, 5)"
      ]
     },
     "execution_count": 34,
     "metadata": {},
     "output_type": "execute_result"
    }
   ],
   "source": [
    "students_df.shape"
   ]
  },
  {
   "cell_type": "code",
   "execution_count": 35,
   "id": "06034a0e-855e-43c5-977b-3ff91fc36400",
   "metadata": {},
   "outputs": [
    {
     "data": {
      "text/html": [
       "<div>\n",
       "<style scoped>\n",
       "    .dataframe tbody tr th:only-of-type {\n",
       "        vertical-align: middle;\n",
       "    }\n",
       "\n",
       "    .dataframe tbody tr th {\n",
       "        vertical-align: top;\n",
       "    }\n",
       "\n",
       "    .dataframe thead th {\n",
       "        text-align: right;\n",
       "    }\n",
       "</style>\n",
       "<table border=\"1\" class=\"dataframe\">\n",
       "  <thead>\n",
       "    <tr style=\"text-align: right;\">\n",
       "      <th></th>\n",
       "      <th>First_Name</th>\n",
       "      <th>Last_Name</th>\n",
       "      <th>Age</th>\n",
       "      <th>Major</th>\n",
       "      <th>Score</th>\n",
       "    </tr>\n",
       "  </thead>\n",
       "  <tbody>\n",
       "    <tr>\n",
       "      <th>bob@mail.com</th>\n",
       "      <td>Bob</td>\n",
       "      <td>William</td>\n",
       "      <td>26</td>\n",
       "      <td>Computer Engineering</td>\n",
       "      <td>86</td>\n",
       "    </tr>\n",
       "    <tr>\n",
       "      <th>emma@mail.com</th>\n",
       "      <td>Emma</td>\n",
       "      <td>Johnson</td>\n",
       "      <td>23</td>\n",
       "      <td>Math</td>\n",
       "      <td>92</td>\n",
       "    </tr>\n",
       "  </tbody>\n",
       "</table>\n",
       "</div>"
      ],
      "text/plain": [
       "              First_Name Last_Name  Age                 Major  Score\n",
       "bob@mail.com         Bob   William   26  Computer Engineering     86\n",
       "emma@mail.com       Emma   Johnson   23                  Math     92"
      ]
     },
     "execution_count": 35,
     "metadata": {},
     "output_type": "execute_result"
    }
   ],
   "source": [
    "students_df.head(2)"
   ]
  },
  {
   "cell_type": "code",
   "execution_count": 36,
   "id": "55513a4d-7b84-4b5a-b76a-16c1621ca94f",
   "metadata": {},
   "outputs": [
    {
     "data": {
      "text/html": [
       "<div>\n",
       "<style scoped>\n",
       "    .dataframe tbody tr th:only-of-type {\n",
       "        vertical-align: middle;\n",
       "    }\n",
       "\n",
       "    .dataframe tbody tr th {\n",
       "        vertical-align: top;\n",
       "    }\n",
       "\n",
       "    .dataframe thead th {\n",
       "        text-align: right;\n",
       "    }\n",
       "</style>\n",
       "<table border=\"1\" class=\"dataframe\">\n",
       "  <thead>\n",
       "    <tr style=\"text-align: right;\">\n",
       "      <th></th>\n",
       "      <th>First_Name</th>\n",
       "      <th>Last_Name</th>\n",
       "      <th>Age</th>\n",
       "      <th>Major</th>\n",
       "      <th>Score</th>\n",
       "    </tr>\n",
       "  </thead>\n",
       "  <tbody>\n",
       "    <tr>\n",
       "      <th>emma@mail.com</th>\n",
       "      <td>Emma</td>\n",
       "      <td>Johnson</td>\n",
       "      <td>23</td>\n",
       "      <td>Math</td>\n",
       "      <td>92</td>\n",
       "    </tr>\n",
       "    <tr>\n",
       "      <th>Sarah@mail.com</th>\n",
       "      <td>Sarah</td>\n",
       "      <td>Smith</td>\n",
       "      <td>22</td>\n",
       "      <td>Chemistry</td>\n",
       "      <td>95</td>\n",
       "    </tr>\n",
       "    <tr>\n",
       "      <th>Alex@mail.com</th>\n",
       "      <td>Alex</td>\n",
       "      <td>Brown</td>\n",
       "      <td>21</td>\n",
       "      <td>Electrical Engineering</td>\n",
       "      <td>82</td>\n",
       "    </tr>\n",
       "  </tbody>\n",
       "</table>\n",
       "</div>"
      ],
      "text/plain": [
       "               First_Name Last_Name  Age                   Major  Score\n",
       "emma@mail.com        Emma   Johnson   23                    Math     92\n",
       "Sarah@mail.com      Sarah     Smith   22               Chemistry     95\n",
       "Alex@mail.com        Alex     Brown   21  Electrical Engineering     82"
      ]
     },
     "execution_count": 36,
     "metadata": {},
     "output_type": "execute_result"
    }
   ],
   "source": [
    "students_df.tail(3)"
   ]
  },
  {
   "cell_type": "code",
   "execution_count": 1,
   "id": "43b1b92d-6ac5-472d-a644-c91ccac9ca75",
   "metadata": {},
   "outputs": [
    {
     "ename": "NameError",
     "evalue": "name 'students_df' is not defined",
     "output_type": "error",
     "traceback": [
      "\u001B[1;31m---------------------------------------------------------------------------\u001B[0m",
      "\u001B[1;31mNameError\u001B[0m                                 Traceback (most recent call last)",
      "Cell \u001B[1;32mIn[1], line 1\u001B[0m\n\u001B[1;32m----> 1\u001B[0m \u001B[43mstudents_df\u001B[49m\u001B[38;5;241m.\u001B[39mtail(\u001B[38;5;241m3\u001B[39m)\n",
      "\u001B[1;31mNameError\u001B[0m: name 'students_df' is not defined"
     ]
    }
   ],
   "source": [
    "students_df.tail(3)"
   ]
  }
 ],
 "metadata": {
  "kernelspec": {
   "display_name": "Python 3 (ipykernel)",
   "language": "python",
   "name": "python3"
  },
  "language_info": {
   "codemirror_mode": {
    "name": "ipython",
    "version": 3
   },
   "file_extension": ".py",
   "mimetype": "text/x-python",
   "name": "python",
   "nbconvert_exporter": "python",
   "pygments_lexer": "ipython3",
   "version": "3.10.2"
  }
 },
 "nbformat": 4,
 "nbformat_minor": 5
}
